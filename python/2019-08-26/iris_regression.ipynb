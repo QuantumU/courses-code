{
 "cells": [
  {
   "cell_type": "code",
   "execution_count": 15,
   "metadata": {},
   "outputs": [
    {
     "data": {
      "text/plain": [
       "LinearRegression(copy_X=True, fit_intercept=True, n_jobs=None, normalize=False)"
      ]
     },
     "execution_count": 15,
     "metadata": {},
     "output_type": "execute_result"
    }
   ],
   "source": [
    "from sklearn import datasets\n",
    "from sklearn.linear_model import LinearRegression\n",
    "import numpy as np\n",
    "iris = datasets.load_iris()\n",
    "\n",
    "# Ziel: vorhersagen der sepal_width basierend auf der sepal_length\n",
    "\n",
    "sepal_length = iris[\"data\"][:, 2]\n",
    "sepal_width = iris[\"data\"][:, 3]\n",
    "\n",
    "X = sepal_length[:, np.newaxis]\n",
    "y = sepal_width\n",
    "\n",
    "model = LinearRegression()\n",
    "# lernen anhand der Eingangsdaten:\n",
    "model.fit(X, y)"
   ]
  },
  {
   "cell_type": "code",
   "execution_count": 17,
   "metadata": {},
   "outputs": [
    {
     "data": {
      "text/plain": [
       "array([1.71570156, 1.29994614])"
      ]
     },
     "execution_count": 17,
     "metadata": {},
     "output_type": "execute_result"
    }
   ],
   "source": [
    "model.predict([[5], [4]])"
   ]
  },
  {
   "cell_type": "code",
   "execution_count": 18,
   "metadata": {},
   "outputs": [
    {
     "data": {
      "text/plain": [
       "array([0.41575542])"
      ]
     },
     "execution_count": 18,
     "metadata": {},
     "output_type": "execute_result"
    }
   ],
   "source": [
    "model.coef_"
   ]
  },
  {
   "cell_type": "code",
   "execution_count": 19,
   "metadata": {},
   "outputs": [
    {
     "data": {
      "text/plain": [
       "-0.36307552131902976"
      ]
     },
     "execution_count": 19,
     "metadata": {},
     "output_type": "execute_result"
    }
   ],
   "source": [
    "model.intercept_"
   ]
  },
  {
   "cell_type": "markdown",
   "metadata": {},
   "source": [
    "## plotten der Regressionsgerade"
   ]
  },
  {
   "cell_type": "code",
   "execution_count": 27,
   "metadata": {},
   "outputs": [
    {
     "data": {
      "text/plain": [
       "<matplotlib.collections.PathCollection at 0x7ff7fd99d6d8>"
      ]
     },
     "execution_count": 27,
     "metadata": {},
     "output_type": "execute_result"
    },
    {
     "data": {
      "image/png": "[encoded data removed]",
      "text/plain": [
       "<Figure size 432x288 with 1 Axes>"
      ]
     },
     "metadata": {
      "needs_background": "light"
     },
     "output_type": "display_data"
    }
   ],
   "source": [
    "# x-werte\n",
    "x_p = np.linspace(0, 8)[:, np.newaxis]\n",
    "y_p = model.predict(x_p)\n",
    "\n",
    "import matplotlib.pyplot as plt\n",
    "\n",
    "plt.plot(x_p, y_p)\n",
    "#plt.plot(X[:, 0], y, \".\")\n",
    "plt.scatter(X[:, 0], y, c=iris[\"target\"])"
   ]
  },
  {
   "cell_type": "markdown",
   "metadata": {},
   "source": [
    "## Validierung"
   ]
  },
  {
   "cell_type": "code",
   "execution_count": 45,
   "metadata": {},
   "outputs": [
    {
     "name": "stdout",
     "output_type": "stream",
     "text": [
      "0.04498989571449102\n",
      "0.9255734530791986\n"
     ]
    }
   ],
   "source": [
    "from sklearn.model_selection import train_test_split\n",
    "from sklearn import metrics\n",
    "\n",
    "X_train, X_test, y_train, y_test = train_test_split(X, y)\n",
    "\n",
    "model = LinearRegression()\n",
    "# lernen anhand der Eingangsdaten:\n",
    "model.fit(X, y)\n",
    "\n",
    "# Vorhersage der y-Daten durch mein Modell:\n",
    "y_pred = model.predict(X_test)\n",
    "# Tatsächlichen y-Daten:\n",
    "y_test\n",
    "\n",
    "# Vergleich von y_pred und y_test\n",
    "print(metrics.mean_squared_error(y_pred, y_test))\n",
    "print(metrics.r2_score(y_pred, y_test))"
   ]
  },
  {
   "cell_type": "code",
   "execution_count": 49,
   "metadata": {},
   "outputs": [
    {
     "name": "stdout",
     "output_type": "stream",
     "text": [
      "{'fit_time': array([0.00168586, 0.00169063, 0.00140405, 0.00199962, 0.00218821]), 'score_time': array([0.00098205, 0.00098825, 0.00097036, 0.00154495, 0.0015161 ]), 'test_score': array([-0.11487018,  0.95263007,  0.38011675,  0.68756687, -0.45925651])}\n"
     ]
    }
   ],
   "source": [
    "from sklearn.model_selection import cross_validate\n",
    "\n",
    "model = LinearRegression()\n",
    "\n",
    "test_results = cross_validate(model, X, y, cv=5, scoring=\"r2\")\n",
    "test_scores = test_results[\"test_score\"]\n",
    "print(test_results)"
   ]
  },
  {
   "cell_type": "code",
   "execution_count": null,
   "metadata": {},
   "outputs": [],
   "source": []
  }
 ],
 "metadata": {
  "kernelspec": {
   "display_name": "Python 3",
   "language": "python",
   "name": "python3"
  },
  "language_info": {
   "codemirror_mode": {
    "name": "ipython",
    "version": 3
   },
   "file_extension": ".py",
   "mimetype": "text/x-python",
   "name": "python",
   "nbconvert_exporter": "python",
   "pygments_lexer": "ipython3",
   "version": "3.7.3"
  }
 },
 "nbformat": 4,
 "nbformat_minor": 2
}
